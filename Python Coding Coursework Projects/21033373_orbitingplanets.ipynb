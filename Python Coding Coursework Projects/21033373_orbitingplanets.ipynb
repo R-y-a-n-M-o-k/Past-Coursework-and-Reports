{
 "cells": [
  {
   "cell_type": "markdown",
   "metadata": {},
   "source": [
    "# Simulation of Planetary Orbits\n",
    "\n",
    "## Introduction\n",
    "This python program will be investigating how planets and stars move as a result of gravitational force. How an objects physical properties such as mass, initial position and velocity will change its motion. We will also look at properties which are code related such as the 'time step' which will be used to calculate the trajectory of motion and how that changes the trajectory smoothness and accuracy. \n",
    "\n",
    "### Physics Information\n",
    "\n",
    "#### Newton's law of gravitation\n",
    "Newton's Law of gravitational indicates that an 2 objects with mass will create an attractive force between each other. The scalar force on two masses m1 and m2 is given by \n",
    "\n",
    "$$ {F} = \\frac{Gm_1m_2}{r^2} $$\n",
    "\n",
    "- where F is the force which both masses experience\n",
    "- G is the gravitational constant:  $6.674 \\times 10^{-11} Nm^2kg^{-2}$ \n",
    "- r is the distance between the 2 masses\n",
    "\n",
    "In vector form, the direction of force is depedent on which mass which is being examined. Assuming we are looking at the force of object 2 on object 1, the gravitational force in vector form on object 1 is \n",
    "\n",
    "$$ \\overrightarrow{F} = - \\frac{Gm_1m_2}{r^2} \\hat{r}$$\n",
    "\n",
    "where $ \\hat{r} $ is the displacement unit vector from object 2 to object 1. Coupled with the negative sign, this tells us the force pulls object 1 towards object 2.  This can be rewritten in the form \n",
    "\n",
    "$$ \\overrightarrow{F} = - \\frac{Gm_1m_2}{r^3} \\overrightarrow{r} $$\n",
    "\n",
    "which also gives the force as a function of the displacement vector of object 1 from object 2. This will be used to calculate the force on a given object. By Newton's law, we also have the acceleration of object 1\n",
    "\n",
    "$$ \\overrightarrow{a_1} = - \\frac{Gm_2}{r^3} \\overrightarrow{r} $$\n",
    "\n",
    "The acceleration of object 2 can be expressed by changing the $ m_2 $ with $ m_1 $, but also removing the negative sign as the direction of force is reversed for object 2. \n",
    "\n",
    "### Eulers' Method \n",
    "The motion of the planetary orbits can be animated through the use of Euler's method. This is an approximation which simulates the planets movement as a bunch of very small linear segments. The motion is adjusted depending on the values of velocity and acceleration which will be dependent on position. \n",
    "\n",
    "The velocity $v$ of an object at time $v + \\delta t$ is given by \n",
    "\n",
    "$$ v(t+\\delta t) = v(t) + a\\delta t $$\n",
    "\n",
    "where v(t) was an initial velocity at a time $t$ before $t + \\delta t$. Analogously, the position of the object can be expressed as \n",
    "\n",
    "$$ r(t+\\delta t) = r(t) + v\\delta t $$\n",
    "\n",
    "$ \\delta t $ is a time step which also dictates how often the values of acceleration, velocity and position of the object updates in a given time frame. This is arguably a property of the code as well due to its relation to how many values the computer will compute and the resultant trajectory created by the computer. Using this approximation method along with a value of acceleration being able to be found using Newton's law of gravitation and Newton's second law, we can simulate and animate the movement of planetary orbits in a gravitational field. \n",
    "\n",
    "(\"PHAS0007 Computing Final Assignment 2020-21: Simulating Planetary Orbits.pdf\")\n",
    "(Chislett et al, 2021)\n",
    "\n",
    "\n",
    "The program should be run consecutively cell by cell. Otherwise the animation may end up running on another canvas somewhere on the top. The animations should be smooth. If there is spikes and only straight lines appear interrupt or restart the kernel."
   ]
  },
  {
   "cell_type": "code",
   "execution_count": 1,
   "metadata": {},
   "outputs": [
    {
     "data": {
      "text/html": [
       "<div id=\"glowscript\" class=\"glowscript\"></div>"
      ],
      "text/plain": [
       "<IPython.core.display.HTML object>"
      ]
     },
     "metadata": {},
     "output_type": "display_data"
    },
    {
     "data": {
      "application/javascript": [
       "if (typeof Jupyter !== \"undefined\") { window.__context = { glowscript_container: $(\"#glowscript\").removeAttr(\"id\")};}else{ element.textContent = ' ';}"
      ],
      "text/plain": [
       "<IPython.core.display.Javascript object>"
      ]
     },
     "metadata": {},
     "output_type": "display_data"
    }
   ],
   "source": [
    "from vpython import vector, mag, sphere, rate, color, canvas\n",
    "G = 1.      # gravitational constant [using units where gravitational constant is 1.0]"
   ]
  },
  {
   "cell_type": "markdown",
   "metadata": {},
   "source": [
    "## Part A"
   ]
  },
  {
   "cell_type": "markdown",
   "metadata": {},
   "source": [
    "### 1. Calculating the gravitational force between two objects\n",
    "\n",
    "You should complete the following function, without changing its name, arguments or docstring, to calculate the force on one object due to the gravitational field of another. Note that we are using units where the gravitational constant G has the value 1, so masses and times are also given in non-standard units."
   ]
  },
  {
   "cell_type": "code",
   "execution_count": 2,
   "metadata": {},
   "outputs": [],
   "source": [
    "def force(pos1, pos2, m1, m2):\n",
    "    \"\"\"\n",
    "    Returns the gravitational force exerted by object 2 on object 1.\n",
    "    Input:\n",
    "      - pos1 = position vector of first object\n",
    "      - pos2 = position vector of second object\n",
    "      - m1   = mass of first object\n",
    "      - m2   = mass of second object\n",
    "    Depends on:\n",
    "      - G    = gravitational constant (global variable)\n",
    "    \"\"\"\n",
    "    \n",
    "    #computes the force of gravity on object 1 as a result of object 2 as a vector\n",
    "    gravity_force = - (G * m1 * m2 / (mag(pos1 - pos2))**3) * (pos1 - pos2)\n",
    "    \n",
    "    #function returns the force on object 1\n",
    "    return gravity_force "
   ]
  },
  {
   "cell_type": "markdown",
   "metadata": {},
   "source": [
    "#### Testing your function\n",
    "\n",
    "The following cell applies some tests to help you make sure your `force` function works correctly before you use it in the rest of the task. You do not need to understand the details of how it works, but it may help you narrow down any bugs in your code. If each line of output starts with `OK` then it is likely (but not guaranteed) that you have implemented the function correctly.\n",
    "\n",
    "Please leave the code in this cell unchanged: you may add your own tests if you wish, but these should be in a separate cell."
   ]
  },
  {
   "cell_type": "code",
   "execution_count": 3,
   "metadata": {},
   "outputs": [
    {
     "name": "stdout",
     "output_type": "stream",
     "text": [
      "OK: correct results for input (<0, 0, 0>, <1, 0, 0>, 1, 1)\n",
      "OK: correct results for input (<1, 0, 0>, <0, 0, 0>, 1, 1)\n",
      "OK: correct results for input (<0, 0, 0>, <2, 0, 0>, 1, 1)\n",
      "OK: correct results for input (<0, 0, 0>, <0, 1, 0>, 1, 1)\n",
      "OK: correct results for input (<10, 0, 0>, <10, 1, 0>, 1, 1)\n",
      "OK: correct results for input (<0, 0, 0>, <1, 0, 0>, 2, 1)\n",
      "OK: correct results for input (<0, 0, 0>, <1, 0, 0>, 1, 2)\n"
     ]
    }
   ],
   "source": [
    "################################################\n",
    "#                                              #\n",
    "# Test force is correct in a few simple cases. #\n",
    "#                                              #\n",
    "#   DO NOT CHANGE THE CODE IN THIS CELL.       #\n",
    "#                                              #\n",
    "################################################\n",
    "\n",
    "def test_force(pos1, pos2, m1, m2, expected_force):\n",
    "    epsilon = 1e-10\n",
    "    f = force(pos1, pos2, m1, m2)\n",
    "    if not isinstance(f,vector):\n",
    "        print(f\"ERROR: function should return a vector but returns {f}.\")\n",
    "        return\n",
    "    args_as_string = f\"({pos1}, {pos2}, {m1}, {m2})\"\n",
    "    error = mag(f-expected_force)\n",
    "    if error<epsilon:\n",
    "        print(f\"OK: correct results for input {args_as_string}\")\n",
    "    else:\n",
    "        print(f\"ERROR: wrong results for input {args_as_string}\")\n",
    "        print(f\"  expected: {expected_force}\")\n",
    "        print(f\"  got:      {f}\")\n",
    "\n",
    "test_force(vector(0,0,0),vector(1,0,0),1,1,vector(1,0,0))    # distance = 1 in x direction\n",
    "test_force(vector(1,0,0),vector(0,0,0),1,1,vector(-1,0,0))   # swap objects\n",
    "test_force(vector(0,0,0),vector(2,0,0),1,1,vector(0.25,0,0)) # distance = 2\n",
    "test_force(vector(0,0,0),vector(0,1,0),1,1,vector(0,1,0))    # distance = 1 in y direction\n",
    "test_force(vector(10,0,0),vector(10,1,0),1,1,vector(0,1,0))  # displaced from origin\n",
    "test_force(vector(0,0,0),vector(1,0,0),2,1,vector(2,0,0))    # non-unit mass 1\n",
    "test_force(vector(0,0,0),vector(1,0,0),1,2,vector(2,0,0))    # non-unit mass 2"
   ]
  },
  {
   "cell_type": "markdown",
   "metadata": {},
   "source": [
    "### 2. Calculating the motion of a planet in the gravitational field of a star\n",
    "\n",
    "You should complete the following function, without changing its name, arguments or docstring, to calculate the new position and velocity of a planet after a time step `dt`, in the gravitational field of a star of a given mass situated at the origin. This function will need to call `force` to calculate the acceleration vector of the planet."
   ]
  },
  {
   "cell_type": "code",
   "execution_count": 4,
   "metadata": {},
   "outputs": [],
   "source": [
    "def move_planet(position, velocity, m_star, dt):\n",
    "    \"\"\"\n",
    "    Calculate motion of planet in the gravitational field of a star with given mass\n",
    "    at the origin, using Euler's method.\n",
    "    \n",
    "    Input:\n",
    "      - position: position vector of planet at start of time step\n",
    "      - velocity: velocity vector of planet at start of time step\n",
    "      - m_star:   mass of star\n",
    "      - dt:       time step\n",
    "      \n",
    "    Output: (position_new, velocity_new)\n",
    "      - position_new: position vector of planet at end of time step\n",
    "      - velocity_new: velocity vector of planet at end of time step\n",
    "      \n",
    "    Depends on:\n",
    "      - force = function to calculate the gravitational force between two objects\n",
    "    \"\"\"\n",
    "    \n",
    "    #acceleration of the planet(m1) as a result of m_star(m2) at a given position\n",
    "    acceleration = force(position, vector(0,0,0), 1, m_star)\n",
    "    \n",
    "    #updates the position and velocity of the planet  \n",
    "    position_new = position + velocity * dt \n",
    "    velocity_new = velocity + acceleration * dt \n",
    "    \n",
    "    #function returns the planets updated position and velocity\n",
    "    return position_new, velocity_new "
   ]
  },
  {
   "cell_type": "markdown",
   "metadata": {},
   "source": [
    "#### Testing your function\n",
    "\n",
    "The following cell applies some tests to help you make sure your `move_planet` function works correctly before you use it in the rest of the task. You do not need to understand the details of how it works, but it may help you narrow down any bugs in your code. If each line of output starts with `OK` then it is likely (but not guaranteed) that you have implemented the function correctly.\n",
    "\n",
    "Please leave the code in this cell unchanged: you may add your own tests if you wish, but these should be in a separate cell. "
   ]
  },
  {
   "cell_type": "code",
   "execution_count": 5,
   "metadata": {},
   "outputs": [
    {
     "name": "stdout",
     "output_type": "stream",
     "text": [
      "OK: correct results for input <1, 0, 0>, <1, 0, 0>, 1, 0\n",
      "OK: correct results for input <1, 0, 0>, <1, 0, 0>, 1, 1\n",
      "OK: correct results for input <0, 1, 0>, <0, -1, 0>, 1, 1\n",
      "OK: correct results for input <1, 0, 0>, <0, 1, 0>, 1, 1\n",
      "OK: correct results for input <1, 0, 0>, <0, 1, 0>, 1, 0.1\n",
      "OK: correct results for input <1, 0, 0>, <0, 1, 0>, 2, 0.1\n",
      "OK: correct results for input <2, 0, 0>, <1, 0, 0>, 1, 1\n"
     ]
    }
   ],
   "source": [
    "######################################################\n",
    "#                                                    #\n",
    "# Test move_planet is correct in a few simple cases. #\n",
    "#                                                    #\n",
    "#   DO NOT CHANGE THE CODE IN THIS CELL.             #\n",
    "#                                                    #\n",
    "######################################################\n",
    "\n",
    "def test_move_planet(position, velocity, m_star, dt, expected_pos, expected_vel):\n",
    "    epsilon = 1e-10\n",
    "    results = move_planet(position, velocity, m_star, dt)\n",
    "    if not isinstance(results, tuple):\n",
    "        print(f\"ERROR: function should return two vectors but returns {results}.\")\n",
    "        return\n",
    "    if not len(results)==2:\n",
    "        print(f\"ERROR: function should return two vectors but returns {results}.\")\n",
    "        return\n",
    "    pos, vel = results\n",
    "    if not (isinstance(pos,vector) and isinstance(vel,vector)):\n",
    "        print(f\"ERROR: function should return two vectors but returns {results}.\")\n",
    "        return\n",
    "    args_as_string = f\"{position}, {velocity}, {m_star}, {dt}\"\n",
    "    err_pos, err_vel = mag(pos - expected_pos), mag(vel - expected_vel)\n",
    "    if err_pos < epsilon and err_vel < epsilon:\n",
    "        print(f\"OK: correct results for input {args_as_string}\")\n",
    "    else:\n",
    "        print(f\"ERROR: wrong results for input {args_as_string}\")\n",
    "        print(f\"  expected: {expected_pos, expected_vel}\")\n",
    "        print(f\"  got:      {results}\")\n",
    "\n",
    "\n",
    "test_move_planet(vector(1,0,0), vector(1,0,0), 1, 0, vector(1,0,0), vector(1,0,0))    # dt = 0: output = input\n",
    "test_move_planet(vector(1,0,0), vector(1,0,0), 1, 1, vector(2,0,0), vector(0,0,0))    # moving away from star\n",
    "test_move_planet(vector(0,1,0), vector(0,-1,0), 1, 1, vector(0,0,0), vector(0,-2,0))  # moving towards star\n",
    "test_move_planet(vector(1,0,0), vector(0,1,0), 1, 1, vector(1,1,0), vector(-1,1,0))   # moving past star\n",
    "test_move_planet(vector(1,0,0), vector(0,1,0), 1, 0.1, vector(1,0.1,0), vector(-0.1,1,0))  # smaller dt\n",
    "test_move_planet(vector(1,0,0), vector(0,1,0), 2, 0.1, vector(1,0.1,0), vector(-0.2,1,0))  # larger star mass\n",
    "test_move_planet(vector(2,0,0), vector(1,0,0), 1, 1, vector(3,0,0), vector(0.75,0,0)) # non-unit distance"
   ]
  },
  {
   "cell_type": "markdown",
   "metadata": {},
   "source": [
    "### 3. Animating the orbit of a planet\n",
    "\n",
    "You should complete the following function, without changing its name, arguments or docstring, to display an animation of the orbit of the planet with the given intial position and velocity, and the given time step. Your planet should leave a visible trail so that we can see the shape of path.\n",
    "\n",
    "Your animation should run for a suitable amount of time: we suggest around 10 seconds in real time."
   ]
  },
  {
   "cell_type": "code",
   "execution_count": 6,
   "metadata": {},
   "outputs": [],
   "source": [
    "def animate_planet(position, velocity, m_star, dt):\n",
    "    \"\"\"\n",
    "    Animate planetary orbit from given starting position, with given time step.\n",
    "    \n",
    "    Input:\n",
    "      - position: position vector of planet at start of simulation\n",
    "      - velocity: velocity vector of planet at start of simulation\n",
    "      - m_star:   mass of star\n",
    "      - dt:       time step\n",
    "    \"\"\"\n",
    "  \n",
    "    #draws planet and intializes position of planet \n",
    "    planet = sphere(pos=position, radius=0.1, make_trail=True, color=color.white )\n",
    "    \n",
    "    #parameters of animation, max_time - how long animation lasts, fps - max no. loops per sec \n",
    "    time = 0\n",
    "    max_time = 1\n",
    "    fps = 1e3\n",
    "    \n",
    "    #while loop updates planets position for 10 seconds \n",
    "    while time <= max_time:\n",
    "        rate(fps)\n",
    "        \n",
    "        #new position and velocity determined by move_planet() function\n",
    "        position, velocity = move_planet(position, velocity, m_star, dt)\n",
    "        \n",
    "        #planets position is updated as the new position\n",
    "        planet.pos = position \n",
    "        time += dt\n",
    "        "
   ]
  },
  {
   "cell_type": "markdown",
   "metadata": {},
   "source": [
    "#### Testing your function\n",
    "\n",
    "If you have implemented all three functions correctly, the following cell should show an almost circular orbit. You may need to adjust the animation rate in the function `animate_planet` to get a smooth path but you should not change the given time step."
   ]
  },
  {
   "cell_type": "code",
   "execution_count": 7,
   "metadata": {},
   "outputs": [
    {
     "data": {
      "text/html": [
       "<div id=\"glowscript\" class=\"glowscript\"></div>"
      ],
      "text/plain": [
       "<IPython.core.display.HTML object>"
      ]
     },
     "metadata": {},
     "output_type": "display_data"
    },
    {
     "data": {
      "application/javascript": [
       "if (typeof Jupyter !== \"undefined\") { window.__context = { glowscript_container: $(\"#glowscript\").removeAttr(\"id\")};}else{ element.textContent = ' ';}"
      ],
      "text/plain": [
       "<IPython.core.display.Javascript object>"
      ]
     },
     "metadata": {},
     "output_type": "display_data"
    },
    {
     "data": {
      "application/javascript": [
       "if (typeof Jupyter !== \"undefined\") {require.undef(\"nbextensions/vpython_libraries/glow.min\");}else{element.textContent = ' ';}"
      ],
      "text/plain": [
       "<IPython.core.display.Javascript object>"
      ]
     },
     "metadata": {},
     "output_type": "display_data"
    },
    {
     "data": {
      "application/javascript": [
       "if (typeof Jupyter !== \"undefined\") {require.undef(\"nbextensions/vpython_libraries/glowcomm\");}else{element.textContent = ' ';}"
      ],
      "text/plain": [
       "<IPython.core.display.Javascript object>"
      ]
     },
     "metadata": {},
     "output_type": "display_data"
    },
    {
     "data": {
      "application/javascript": [
       "if (typeof Jupyter !== \"undefined\") {require.undef(\"nbextensions/vpython_libraries/jquery-ui.custom.min\");}else{element.textContent = ' ';}"
      ],
      "text/plain": [
       "<IPython.core.display.Javascript object>"
      ]
     },
     "metadata": {},
     "output_type": "display_data"
    },
    {
     "data": {
      "application/javascript": [
       "if (typeof Jupyter !== \"undefined\") {require([\"nbextensions/vpython_libraries/glow.min\"], function(){console.log(\"GLOW LOADED\");});}else{element.textContent = ' ';}"
      ],
      "text/plain": [
       "<IPython.core.display.Javascript object>"
      ]
     },
     "metadata": {},
     "output_type": "display_data"
    },
    {
     "data": {
      "application/javascript": [
       "if (typeof Jupyter !== \"undefined\") {require([\"nbextensions/vpython_libraries/glowcomm\"], function(){console.log(\"GLOWCOMM LOADED\");});}else{element.textContent = ' ';}"
      ],
      "text/plain": [
       "<IPython.core.display.Javascript object>"
      ]
     },
     "metadata": {},
     "output_type": "display_data"
    },
    {
     "data": {
      "application/javascript": [
       "if (typeof Jupyter !== \"undefined\") {require([\"nbextensions/vpython_libraries/jquery-ui.custom.min\"], function(){console.log(\"JQUERY LOADED\");});}else{element.textContent = ' ';}"
      ],
      "text/plain": [
       "<IPython.core.display.Javascript object>"
      ]
     },
     "metadata": {},
     "output_type": "display_data"
    }
   ],
   "source": [
    "# Initialize canvas, and set parameters of star and planet.\n",
    "canvas()\n",
    "pos_planet = vector(0,2,0)   # initial position of planet\n",
    "v_planet   = vector(-22,0,0) # initial velocity of planet\n",
    "m_star     = 1000.           # mass of star (units where G=1)\n",
    "sphere(pos=vector(0,0,0), color=color.yellow, radius=0.1) # draw star\n",
    "\n",
    "# Animate orbit of planet\n",
    "animate_planet(pos_planet, v_planet, m_star, 1e-4)"
   ]
  },
  {
   "cell_type": "markdown",
   "metadata": {},
   "source": [
    "### 4. Investigation\n",
    "\n",
    "You should insert code and text cells below as required to investigate and discuss the effect of changing the parameters of the animation: time step, mass of star, initial position and velocity of planet. "
   ]
  },
  {
   "cell_type": "markdown",
   "metadata": {},
   "source": [
    "### Changing time-step "
   ]
  },
  {
   "cell_type": "code",
   "execution_count": 28,
   "metadata": {
    "scrolled": false
   },
   "outputs": [],
   "source": [
    "import numpy as np \n",
    "\n",
    "def animate_planet_color(position, velocity, m_star, dt, fps):\n",
    "    \"\"\"\n",
    "    Animates planetary orbit from given starting position, with given time step. But changes the color of the sphere for every\n",
    "    loop\n",
    "    \n",
    "    Input:\n",
    "      - position: position vector of planet at start of simulation\n",
    "      - velocity: velocity vector of planet at start of simulation\n",
    "      - m_star:   mass of star\n",
    "      - dt:       time step\n",
    "    \"\"\"\n",
    "  \n",
    "    #creates a random color for every sphere \n",
    "    x = np.random.rand(3)\n",
    "    a,b,c = x\n",
    "    y = vector(a,b,c)\n",
    "    \n",
    "    #draws planet and intializes position of planet \n",
    "    planet = sphere(pos=position, radius=0.1, make_trail=True, color=y )\n",
    "    \n",
    "    #parameters of animation, max_time - how long animation lasts, fps - how many updates of position in a second\n",
    "    time = 0\n",
    "    max_time = dt * fps * 10\n",
    "    \n",
    "    #while loop updates planets position for 10 seconds \n",
    "    while time <= max_time:\n",
    "        rate(fps)\n",
    "        \n",
    "        #new position and velocity determined by move_planet() function\n",
    "        position, velocity = move_planet(position, velocity, m_star, dt)\n",
    "        \n",
    "        #planets position is updated as the new position\n",
    "        planet.pos = position \n",
    "        time += dt"
   ]
  },
  {
   "cell_type": "code",
   "execution_count": 38,
   "metadata": {},
   "outputs": [
    {
     "data": {
      "text/html": [
       "<div id=\"glowscript\" class=\"glowscript\"></div>"
      ],
      "text/plain": [
       "<IPython.core.display.HTML object>"
      ]
     },
     "metadata": {},
     "output_type": "display_data"
    },
    {
     "data": {
      "application/javascript": [
       "if (typeof Jupyter !== \"undefined\") { window.__context = { glowscript_container: $(\"#glowscript\").removeAttr(\"id\")};}else{ element.textContent = ' ';}"
      ],
      "text/plain": [
       "<IPython.core.display.Javascript object>"
      ]
     },
     "metadata": {},
     "output_type": "display_data"
    }
   ],
   "source": [
    "#range of time step values\n",
    "time_step = np.linspace(1e-2,1e-4,5)\n",
    "\n",
    "#creates canvas, draws star\n",
    "canvas()\n",
    "sphere(pos=vector(0,0,0), color=color.yellow, radius=0.1) \n",
    "\n",
    "#loop which animates different objects with different time step, rate is also adjusted for smoothness.\n",
    "for i in time_step:\n",
    "    animate_planet_color(pos_planet, v_planet, m_star, i, (1/i)*0.1)"
   ]
  },
  {
   "cell_type": "markdown",
   "metadata": {},
   "source": [
    "#### Time Step \n",
    "- Given an constant initial velocity of (-22,0,0), an initial position of (0,2,0) and a star mass of 1000, time steps of 5 values equally spaced between 1e-2 to 1e-4 were investigated. \n",
    "- For an initial value of 1e-2 the planet started moving in a sprialing motion away from the star. This could be due to the larger time step in the animation. As the updated position and velocity is dependent on the time step, a large time step creates a value which is much larger and the change in the position between each time step is much greater. \n",
    "- Due to the fact Euler's method mimics the trajectory through small tangents, the tangents move much farther out of circular orbit and the objects position is then farther away from the star\n",
    "- But as the gravitational force and thus acceleration is inversely proportional to the distance to the star, the planet then experiences less acceleration and is not pulled towards the planet nearly as much as it should be.\n",
    "- This chain effect continues on with each time step and causes the planet to keep moving farther and father away in a spiraling orbit. \n",
    "- As the time step becomes smaller, the position does not go off in a tangent nearly as much and as a result the sprialing away is much less pronounced, until at 1e-4, the orbit becomes nearly circular. \n",
    "\n",
    "Another important note is that the rate of animation affects how fast the object appears to move despite all planets having the same initial velocity. For a large time step, for a given constant rate, the position of the planet will move more and more but with a smaller time step eg. 1e-4, the position of the planet is updated the same amount, but because the position update is depedent on the size of dt, it seems to move a much smaller distance. To compensate for this, the animation rate was made varying to ensure large dt looked smooth and small dt did not move slower.\n",
    "\n",
    "### Changing mass"
   ]
  },
  {
   "cell_type": "code",
   "execution_count": 32,
   "metadata": {},
   "outputs": [
    {
     "data": {
      "text/html": [
       "<div id=\"glowscript\" class=\"glowscript\"></div>"
      ],
      "text/plain": [
       "<IPython.core.display.HTML object>"
      ]
     },
     "metadata": {},
     "output_type": "display_data"
    },
    {
     "data": {
      "application/javascript": [
       "if (typeof Jupyter !== \"undefined\") { window.__context = { glowscript_container: $(\"#glowscript\").removeAttr(\"id\")};}else{ element.textContent = ' ';}"
      ],
      "text/plain": [
       "<IPython.core.display.Javascript object>"
      ]
     },
     "metadata": {},
     "output_type": "display_data"
    }
   ],
   "source": [
    "#creates an array of 5 different star masses \n",
    "mass = np.array([1500,1250,1000,750,500])\n",
    "\n",
    "#sets canvas and draws star\n",
    "canvas()\n",
    "sphere(pos=vector(0,0,0), color=color.yellow, radius=0.1) \n",
    "\n",
    "#loop to animate orbit for each different value of star mass\n",
    "for i in mass:\n",
    "    animate_planet_color(pos_planet, v_planet, i, 0.8e-4, 1e3)"
   ]
  },
  {
   "cell_type": "markdown",
   "metadata": {},
   "source": [
    "#### Mass\n",
    "- Given an constant initial velocity of (-22,0,0), an initial position of (0,2,0) and a time step of 0.8e-4, the star mass was changed from values of 1500 to 500. The mass of value 1000 (3rd planet) gives a circle.\n",
    "- At a mass above 1000 (star mass = 1250, 1500), the planet also followed an elliptical orbit but compared to the mass below 1000, the pericenter and apocenter were reversed, with the pericenter on the bottom and the apocenter at the top.\n",
    "- But at the pericenter, as mass increases, observationally the velocity of the planet also increases. This can be explained by the conservation of angular momentum (which dictates the velocity changes by a factor of the ratio between the distance of apocenter to pericenter).\n",
    "- At a mass of 750 the planet formed an ellipse with the pericenter at the top and the apocenter at the bottom.\n",
    "- The value of mass 500, seemed to give a parabolic or hyperbolic trajectory to the planet. It seems that the gravitional force of the star was not large enough that it could bound the planet to an orbit.\n",
    "- The greater velocity may also explain why the trajectory around the pericenter becomes more inaccurate with more deviation in loops of smaller ellipses(bigger mass). Even if the time step remains the same, the position changes much more in the same time span, therefore objects which have much larger velocity such as the planets with the smaller pericenter seem to jump larger distances and cause an inaccurate spiraling motion. \n",
    "- For simulating even larger masses, the time step of the animation should be increased or else the trajectory will become inaccurate as the velocity is too large and you may see a much more pronounced spiraling motion.\n",
    "- As the value of star mass deviated from 1000, the planet orbit became less circular and more elliptical or even parabolic to hyperbolic.\n",
    "\n",
    "(some elliptical orbits are not complete as the time of the animation is fixed to 10 seconds)\n",
    "\n",
    "### Changing initial position"
   ]
  },
  {
   "cell_type": "code",
   "execution_count": 34,
   "metadata": {},
   "outputs": [
    {
     "data": {
      "text/html": [
       "<div id=\"glowscript\" class=\"glowscript\"></div>"
      ],
      "text/plain": [
       "<IPython.core.display.HTML object>"
      ]
     },
     "metadata": {},
     "output_type": "display_data"
    },
    {
     "data": {
      "application/javascript": [
       "if (typeof Jupyter !== \"undefined\") { window.__context = { glowscript_container: $(\"#glowscript\").removeAttr(\"id\")};}else{ element.textContent = ' ';}"
      ],
      "text/plain": [
       "<IPython.core.display.Javascript object>"
      ]
     },
     "metadata": {},
     "output_type": "display_data"
    }
   ],
   "source": [
    "#creates array of different y-coordinate positions\n",
    "initial_value = np.linspace(1.5,4,6)\n",
    "    \n",
    "#sets canvas and draws star\n",
    "canvas()\n",
    "sphere(pos=vector(0,0,0), color=color.yellow, radius=0.1) \n",
    "\n",
    "#loop to animate orbit for each different initial position\n",
    "for i in initial_value:\n",
    "    initial_position = vector(0,i,0)\n",
    "    animate_planet_color(initial_position, v_planet, m_star, 0.8e-4, 1e3)\n",
    "    \n",
    "#animates 2 orbits with different x-coordinate positions\n",
    "x_1 = vector(1.5,1.5,0)\n",
    "x_2 = vector(-1.5,1.5,0)\n",
    "animate_planet_color(x_1, v_planet, m_star, 0.8e-4, 1e3)\n",
    "animate_planet_color(x_2, v_planet, m_star, 0.8e-4, 1e3)"
   ]
  },
  {
   "cell_type": "markdown",
   "metadata": {},
   "source": [
    "#### Initial Position\n",
    "- To investigate how initial position changes the trajectory of the planet, the y-value of the initial position vector was changed between 1.5 to 4\n",
    "- The initial position with y-value of 2, (0,2,0) is a circle. (the 2nd planet in animation) \n",
    "- Values below or above 2 created an ellipse, with the values which deviated more from 2 having much bigger eccentricity (more elliptical in shape)\n",
    "- For values below 2, the orbit created was an ellipse, with a pericenter at the bottom and an apocenter at the top. Smaller position values increase the velocity of the planet at the pericenter.\n",
    "- For values above 2 to 3.5, the trajectory was also elliptical, but the pericenter and apocenter were switched around (pericenter on top, apocenter on bottom) when compared to the value below 2.\n",
    "- At a value of 4, the trajectory already did not look bound to any orbit and follow a hyperbolic trajectory. The gravitational force was took weak.\n",
    "- For the values above 2, the period the orbit was much longer and the general velocity of the planet were much slower.\n",
    "- Values of the x-position were also changed with the last two orbits having initial position (1.5,1.5,0) and (-1.5,-1.5,0). This just made the orientiation of the orbit change, with the line that the 2 foci lie on being different.\n",
    "\n",
    "(some elliptical orbits are not complete as the time of the animation is fixed to 10 seconds, any spiraling away is due to euler method approximation)\n",
    "\n",
    "### Changing Initial Velocity "
   ]
  },
  {
   "cell_type": "code",
   "execution_count": 36,
   "metadata": {},
   "outputs": [
    {
     "data": {
      "text/html": [
       "<div id=\"glowscript\" class=\"glowscript\"></div>"
      ],
      "text/plain": [
       "<IPython.core.display.HTML object>"
      ]
     },
     "metadata": {},
     "output_type": "display_data"
    },
    {
     "data": {
      "application/javascript": [
       "if (typeof Jupyter !== \"undefined\") { window.__context = { glowscript_container: $(\"#glowscript\").removeAttr(\"id\")};}else{ element.textContent = ' ';}"
      ],
      "text/plain": [
       "<IPython.core.display.Javascript object>"
      ]
     },
     "metadata": {},
     "output_type": "display_data"
    }
   ],
   "source": [
    "#creates array of different x-value velocities\n",
    "x_values = np.linspace(-37,-17,5)\n",
    "\n",
    "#reverses array order\n",
    "initial_x_velocity = np.flip(x_values)\n",
    "\n",
    "#sets canvas and draws star\n",
    "canvas()\n",
    "sphere(pos=vector(0,0,0), color=color.yellow, radius=0.1) \n",
    "\n",
    "#loop to animate orbit for different initial velocities \n",
    "for i in initial_x_velocity:\n",
    "    initial_velocity = vector(i,0,0)\n",
    "    animate_planet_color(pos_planet, initial_velocity, m_star, 0.8e-4, 1e3)\n",
    "\n",
    "#animates orbits with reversed sign velocity \n",
    "v_reverse1 = vector(22,0,0)\n",
    "v_reverse2 = vector(27,0,0)\n",
    "animate_planet_color(pos_planet, v_reverse1, m_star, 0.8e-4, 1e3)\n",
    "animate_planet_color(pos_planet, v_reverse2, m_star, 0.8e-4, 1e3)"
   ]
  },
  {
   "cell_type": "markdown",
   "metadata": {},
   "source": [
    "#### Initial Velocity \n",
    "- The initial velocity was changed values between (-37,0,0) to (-17,0,0) with (-22,0,0) being the orbit of a circle also looking at positive values of x-velocity.\n",
    "- The x-velocities which were much faster (-37 and -32) formed hyperbolic trajectories which were not bound the gravity of the star to an orbit and had enough energy to escape the gravitational well.\n",
    "- for the value velocity of -27 which was stil faster than -22, an elliptical orbit was produced which has an apocenter in the bottom and pericenter on the top. \n",
    "- a velocity which was greater than -22 (velocity = -17), also produced an elliptical orbit but the orbit was closer and the apocenter and pericenter were swapped around. \n",
    "- By reversing the sign of the velocity from negative to positive, the direction in which the orbit followed also reversed, going from anticlockwise to clockwise when the velocity was changed from negative to positive.\n",
    "- As the speed of the planet increases, the orbital path of the planet becomes larger and more elliptical until the orbit becomes parabolic or hyperbolic.\n",
    "- As the speed of the planet decreases, the orbital path becomes smaller and more elliptical with a smaller period but faster speed at the pericenter. \n",
    "\n",
    "(some elliptical orbits are not complete as the time of the animation is fixed to 12.5 seconds, any spiraling away is due to euler method approximation)"
   ]
  },
  {
   "cell_type": "markdown",
   "metadata": {},
   "source": [
    "## Part B\n",
    "\n",
    "It is up to you to structure the rest of the notebook as you see fit, as you complete the tasks set in part B of the assignment.\n",
    "\n",
    "You can call the functions you have defined in part A, or copy and adapt them in part B, but **DO NOT CHANGE THE CODE IN PART A SUCH THAT THE CELLS IN PART A NO LONGER WORK CORRECTLY.** You do not want to lose marks in section A in completing section B."
   ]
  },
  {
   "cell_type": "markdown",
   "metadata": {},
   "source": [
    "### Part B \n",
    "\n",
    "### 1. Two Planets\n",
    "#### 1a)"
   ]
  },
  {
   "cell_type": "code",
   "execution_count": 14,
   "metadata": {},
   "outputs": [],
   "source": [
    "def animate_2_planets(position1, position2, velocity1, velocity2, m_star, dt):\n",
    "    \n",
    "    \"\"\"function animates 2 planets move around a star \"\"\"\n",
    "    \n",
    "    #creates initial spheres for planets \n",
    "    planet1 = sphere(pos=position1, radius=0.05, make_trail=True, color=color.red)\n",
    "    planet2 = sphere(pos=position2, radius=0.05, make_trail=True, color=color.orange)\n",
    "    \n",
    "    #parameters of animation, max_time - how long animation lasts, fps - max no. loops per sec \n",
    "    time = 0\n",
    "    fps = 1e3\n",
    "    max_time = fps * dt * 10\n",
    "    \n",
    "    \n",
    "    #while loop updates planet positions for 10 seconds \n",
    "    while time <= max_time:\n",
    "        rate(fps)\n",
    "        \n",
    "        #new positions and velocitys of both planets determined by move_planet() function\n",
    "        position1, velocity1 = move_planet(position1, velocity1, m_star, dt)\n",
    "        position2, velocity2 = move_planet(position2, velocity2, m_star, dt)\n",
    "        \n",
    "        #planets position is updated as the new position\n",
    "        planet1.pos = position1\n",
    "        planet2.pos = position2\n",
    "        \n",
    "        time += dt"
   ]
  },
  {
   "cell_type": "markdown",
   "metadata": {},
   "source": [
    "#### 1b)"
   ]
  },
  {
   "cell_type": "code",
   "execution_count": 15,
   "metadata": {},
   "outputs": [
    {
     "data": {
      "text/html": [
       "<div id=\"glowscript\" class=\"glowscript\"></div>"
      ],
      "text/plain": [
       "<IPython.core.display.HTML object>"
      ]
     },
     "metadata": {},
     "output_type": "display_data"
    },
    {
     "data": {
      "application/javascript": [
       "if (typeof Jupyter !== \"undefined\") { window.__context = { glowscript_container: $(\"#glowscript\").removeAttr(\"id\")};}else{ element.textContent = ' ';}"
      ],
      "text/plain": [
       "<IPython.core.display.Javascript object>"
      ]
     },
     "metadata": {},
     "output_type": "display_data"
    }
   ],
   "source": [
    "# Initialize canvas, and set parameters of star and planet.\n",
    "canvas()\n",
    "m_star     = 1000.           # mass of star (units where G=1)\n",
    "sphere(pos=vector(0,0,0), color=color.yellow, radius=0.1) \n",
    "\n",
    "# defines initial positions and velocities of both planets \n",
    "pos_planet1 = vector(1.85,0,0)\n",
    "pos_planet2 = vector(1.96,0.4,0)\n",
    "vel_planet1 = vector(0,23.25,0)\n",
    "vel_planet2 = vector(-4.44,21.9,0)\n",
    "\n",
    "#animates both planets and their trajectories \n",
    "animate_2_planets(pos_planet1, pos_planet2, vel_planet1, vel_planet2, m_star, 1e-4)"
   ]
  },
  {
   "cell_type": "markdown",
   "metadata": {},
   "source": [
    "#### 2 planets moving around a star\n",
    "1. Both planets move in a circular orbit around the star with one orbiting at slightly smaller radius than the other.\n",
    "2. The one with a smaller radius has a slightly faster period than the other. \n",
    "3. Slowly, the inner planet moves farther away from the outer planet, but eventually will loop around and pass the outer planet again.\n",
    "\n",
    "### 2. Two planets with gravitational interactions\n",
    "#### 2a)"
   ]
  },
  {
   "cell_type": "code",
   "execution_count": 1,
   "metadata": {},
   "outputs": [],
   "source": [
    "def move_two_planets(r1, r2, v1, v2, M1, M2, m_star, dt):\n",
    "    \n",
    "    \"\"\"this function describes and updates the position, velocity and acceleration of 2 given planets in a given time step dt\n",
    "    \n",
    "    Input: \n",
    "    r1 - position vector of planet 1, r2 - position vector of planet 2\n",
    "    v1 - velocity vector of planet 1, v2 - velocity vector of planet 2\n",
    "    M1 - mass of planet 1, M2 - mass of planet 2, m_star - mass of the star\n",
    "    dt - time step \n",
    "    \"\"\"\n",
    "    #acceleration on planet 1 and planet 2 (position vector of star is (0,0,0))\n",
    "    a1 = force(r1, r2, 1, M2) + force(r1, vector(0,0,0), 1, m_star)\n",
    "    a2 = force(r2, r1, 1, M1) + force(r2, vector(0,0,0), 1, m_star)\n",
    "    \n",
    "    #updates position of planet 1 and 2 \n",
    "    new_r1 = r1 + v1 * dt \n",
    "    new_r2 = r2 + v2 * dt\n",
    "    \n",
    "    #updates velocity of planet 1 and 2\n",
    "    new_v1 = v1 + a1 * dt\n",
    "    new_v2 = v2 + a2 * dt \n",
    "    \n",
    "    #returns updated positions and velocities of planet 1 and 2\n",
    "    return new_r1, new_r2, new_v1, new_v2 "
   ]
  },
  {
   "cell_type": "markdown",
   "metadata": {},
   "source": [
    "#### 2b)"
   ]
  },
  {
   "cell_type": "code",
   "execution_count": 17,
   "metadata": {},
   "outputs": [],
   "source": [
    "def animate_planets_star(r1, r2, v1, v2, M1, M2, m_star, dt, fps):\n",
    "    \n",
    "    \"\"\"this function animates the trajectory of 2 different planets affected by each others gravity and a stars' gravity\n",
    "     Input:\n",
    "     r1 - position vector of planet 1, r2 - position vector of planet 2\n",
    "     v1 - velocity vector of planet 1, v2 - velocity vector of planet 2\n",
    "     M1 - mass of planet 1, M2 - mass of planet 2, m_star - mass of the star\n",
    "     dt - time step  \n",
    "    \"\"\"\n",
    "    \n",
    "    # intializes spheres for planet 1 and planet 2 and their initial position\n",
    "    p1 = sphere(pos=r1, radius=0.05, make_trail=True, color=color.red)\n",
    "    p2 = sphere(pos=r2, radius=0.05, make_trail=True, color=color.orange)\n",
    "    \n",
    "    #parameters of animation, max_time - how long animation lasts, fps - max no. loops per sec\n",
    "    time = 0\n",
    "    max_time = fps * dt * 30\n",
    "    \n",
    "    \n",
    "    #while loop updates position and velocity of both planets, changes position of both planets every loop\n",
    "    while time <= max_time:\n",
    "       \n",
    "        rate(fps)\n",
    "        \n",
    "        #changes the value position and velocity for both planet 1 and planet 2 \n",
    "        r1, r2, v1, v2 = move_two_planets(r1, r2, v1, v2, M1, M2, m_star, dt)\n",
    "        \n",
    "        #moves the position of the spheres which represent the planets with the new values\n",
    "        p1.pos = r1\n",
    "        p2.pos = r2 \n",
    "        \n",
    "        time += dt \n",
    "        "
   ]
  },
  {
   "cell_type": "markdown",
   "metadata": {},
   "source": [
    "#### Two planets with gravitational interactions\n",
    "The movement of the planets is more complicated. An animation time of 30 seconds is used to illustrate this, longer than usual.\n",
    "\n",
    "As mentioned before, when in orbit, the trajectory of objects slightly spiral out with larger time steps as a result of Euler's method overestimating the distance which the object has travelled tangentially which leads to the chain effect of weaker gravitational force on the object. \n",
    "\n",
    "This same flaw of the Euler method seems to also create a big difference with the general trajectory of both planets. This can be seen with the use of 2 different time steps 1e-4 and 0.5e-4. \n",
    "\n",
    "#### 2c)"
   ]
  },
  {
   "cell_type": "code",
   "execution_count": 18,
   "metadata": {},
   "outputs": [
    {
     "data": {
      "text/html": [
       "<div id=\"glowscript\" class=\"glowscript\"></div>"
      ],
      "text/plain": [
       "<IPython.core.display.HTML object>"
      ]
     },
     "metadata": {},
     "output_type": "display_data"
    },
    {
     "data": {
      "application/javascript": [
       "if (typeof Jupyter !== \"undefined\") { window.__context = { glowscript_container: $(\"#glowscript\").removeAttr(\"id\")};}else{ element.textContent = ' ';}"
      ],
      "text/plain": [
       "<IPython.core.display.Javascript object>"
      ]
     },
     "metadata": {},
     "output_type": "display_data"
    }
   ],
   "source": [
    "# Initialize canvas, and set parameters of star and planet.\n",
    "\n",
    "canvas()\n",
    "m_star     = 1000.           # mass of star (units where G=1)\n",
    "sphere(pos=vector(0,0,0), color=color.yellow, radius=0.1) \n",
    "\n",
    "#mass of planet 1 and 2, initial positions and velocities of planet 1 and 2 \n",
    "M1 = M2 = 2\n",
    "pos_planet1 = vector(1.85,0,0)\n",
    "pos_planet2 = vector(1.96,0.4,0)\n",
    "vel_planet1 = vector(0,23.25,0)\n",
    "vel_planet2 = vector(-4.44,21.9,0)\n",
    "\n",
    "animate_planets_star(pos_planet1, pos_planet2, vel_planet1, vel_planet2, M1, M2, m_star, 1e-4, 1e3)"
   ]
  },
  {
   "cell_type": "code",
   "execution_count": 19,
   "metadata": {},
   "outputs": [
    {
     "data": {
      "text/html": [
       "<div id=\"glowscript\" class=\"glowscript\"></div>"
      ],
      "text/plain": [
       "<IPython.core.display.HTML object>"
      ]
     },
     "metadata": {},
     "output_type": "display_data"
    },
    {
     "data": {
      "application/javascript": [
       "if (typeof Jupyter !== \"undefined\") { window.__context = { glowscript_container: $(\"#glowscript\").removeAttr(\"id\")};}else{ element.textContent = ' ';}"
      ],
      "text/plain": [
       "<IPython.core.display.Javascript object>"
      ]
     },
     "metadata": {},
     "output_type": "display_data"
    }
   ],
   "source": [
    "#draws canvas, star\n",
    "canvas()\n",
    "sphere(pos=vector(0,0,0), color=color.yellow, radius=0.1) \n",
    "\n",
    "#animates planet 1 and 2 with different time step (dt=0.5e-4)\n",
    "animate_planets_star(pos_planet1, pos_planet2, vel_planet1, vel_planet2, M1, M2, m_star, 0.5e-4, 2e3)"
   ]
  },
  {
   "cell_type": "markdown",
   "metadata": {},
   "source": [
    "Firstly, we are able to see that the orbit of time step 1e-4 is very complex and chaotic. The orange planet takes multiple different paths of orbit as highlighted by the strange circular paths it creates. On the other hand, for a time step of 0.5e-4, the orbits look much more stable. With both planets having a somewhat more defined path. \n",
    "\n",
    "As theoretically the smaller time step should be more accurate, we will take the animation of 0.5e-4 as what should be observed. \n",
    "\n",
    "#### Observation\n",
    "1. At first the red planet (planet 1) is closer to the star and starts next the orange planet (planet 2) which is slighly farther away. They approximately first move as if they were unaffected by each others mass (assume both are in a circular orbit).\n",
    "\n",
    "2. But then as time passes, they get closer together and eventually cross paths multiple times. This results in the red planet (planet 1) having its radius of orbit slightly dropped and the orange planet (planet 2) having its radius of orbit increased. It seems that the orange planet used the red planet as a slingshot transfering some energy in the process.\n",
    "\n",
    "3. The orbits of both planets then become stable for a period of time (do not change) but the planet with the smaller period time (the red planet) begins to catch up and once again the 2 masses are affected by each others gravitational force. The orange planet moves slightly further out and the red planet moves slightly further in.\n",
    "\n",
    "4. We can see from the trajectory trails that the paths which the 2 planets characterized by 2 distinct orbits, one inner orbit and a larger outer orbit.\n",
    "\n",
    "5. From the trails, we can also see that the paths of the red and orange planet meet around the left side. And their paths are farther away from each other on the right side. This may indicate that the planets only become seriously affected by each others gravitatinal force when on the left.\n",
    "\n",
    "Perhaps after a given time, we may consider the animation meaningless. This is due to the inaccuracies of the approximation eventually compounded to become substantial enough that the trajectories are not accurate. "
   ]
  },
  {
   "cell_type": "markdown",
   "metadata": {},
   "source": [
    "### 3. Further Investigation\n",
    "#### Planet with Moon orbiting\n",
    "- The \"animate_planets_star()\" function was modified for different animation time, color and radius of spheres. It is still an identical function"
   ]
  },
  {
   "cell_type": "code",
   "execution_count": 24,
   "metadata": {},
   "outputs": [],
   "source": [
    "# \"animate_planets_star()\" function but changes to the sphere radius and animation duration\n",
    "def animate_planet_moon(r1, r2, v1, v2, M1, M2, m_star, dt, fps):\n",
    "    \n",
    "    \"\"\"this function animates the trajectory of 2 different planets affected by each others gravity and a stars' gravity\n",
    "     Input:\n",
    "     r1 - position vector of planet 1, r2 - position vector of planet 2\n",
    "     v1 - velocity vector of planet 1, v2 - velocity vector of planet 2\n",
    "     M1 - mass of planet 1, M2 - mass of planet 2, m_star - mass of the star\n",
    "     dt - time step  \n",
    "    \"\"\"\n",
    "    \n",
    "    # intializes spheres for planet 1 and planet 2 and their initial position\n",
    "    p1 = sphere(pos=r1, radius=0.06, make_trail=True, color=color.blue)\n",
    "    p2 = sphere(pos=r2, radius=0.04, make_trail=True, color=color.white)\n",
    "    \n",
    "    #parameters of animation, max_time - how long animation lasts (15 seconds), fps - max no. loops per sec\n",
    "    time = 0\n",
    "    max_time = fps * dt * 17\n",
    "    \n",
    "    \n",
    "    #while loop updates position and velocity of both planets, changes position of both planets every loop\n",
    "    while time <= max_time:\n",
    "       \n",
    "        rate(fps)\n",
    "        \n",
    "        #changes the value position and velocity for both planet 1 and planet 2 \n",
    "        r1, r2, v1, v2 = move_two_planets(r1, r2, v1, v2, M1, M2, m_star, dt)\n",
    "        \n",
    "        #moves the position of the spheres which represent the planets with the new values\n",
    "        p1.pos = r1\n",
    "        p2.pos = r2 \n",
    "        \n",
    "        time += dt "
   ]
  },
  {
   "cell_type": "code",
   "execution_count": 39,
   "metadata": {},
   "outputs": [
    {
     "data": {
      "text/html": [
       "<div id=\"glowscript\" class=\"glowscript\"></div>"
      ],
      "text/plain": [
       "<IPython.core.display.HTML object>"
      ]
     },
     "metadata": {},
     "output_type": "display_data"
    },
    {
     "data": {
      "application/javascript": [
       "if (typeof Jupyter !== \"undefined\") { window.__context = { glowscript_container: $(\"#glowscript\").removeAttr(\"id\")};}else{ element.textContent = ' ';}"
      ],
      "text/plain": [
       "<IPython.core.display.Javascript object>"
      ]
     },
     "metadata": {},
     "output_type": "display_data"
    }
   ],
   "source": [
    "#Mass of planet, moon and star\n",
    "m_moon = 0.00010157\n",
    "m_planet = 1.0257949\n",
    "star_mass = 992\n",
    "\n",
    "#initial position of planet and moon\n",
    "m_planet_pos = vector(0,2.08,0)\n",
    "m_moon_pos = vector(0,2.13,0)\n",
    "\n",
    "#initial velocity of planet and moon\n",
    "planet_vel = vector(23.0280169,0,0)\n",
    "moon_vel = vector(25.991,0,0)\n",
    "\n",
    "#draws canvas and star\n",
    "canvas()\n",
    "sphere(pos=vector(0,0,0), color=color.yellow, radius=0.5)\n",
    "\n",
    "#animates a planet with a orbiting moon all orbiting the sun.\n",
    "animate_planet_moon(m_planet_pos, m_moon_pos, planet_vel, moon_vel, m_planet, m_moon, star_mass, 1e-4, 0.75e3)"
   ]
  },
  {
   "cell_type": "markdown",
   "metadata": {},
   "source": [
    "The animation shows a moon(white sphere) orbiting a planet (blue sphere) but all under the gravitational influence of a star. It orbits in a clockwise rotation. \n",
    "\n",
    "From a stationary frame, we can see the velocity of the moon is much higher when it is position on the outer side of the planet. When it is positioned on the inside(between the star and the planet) it has a much smaller velocity. \n",
    "\n",
    "This can be explained by the analysis of velocity vectors. When the moon is on the inside, its velocity is in the completely opposite direction of the velocity of orbiting the sun. As a result, the velocity vectors on the moon vectorally cancel out leaving it with a low speed. When on the outside, the velocity vector from orbiting earth and the velocity vector from orbiting the sun are in the same direction and vectorally add up leading to a much greater speed. \n",
    "\n",
    "## Conclusion\n",
    "\n",
    "The program should demonstrate that it is entirely possible to simulate the orbits of planetary bodies subject to a vector field such as gravity. From the animation of 2 planets under each others gravitational influence, it also seems possible to simulate how multiple vector fields interact with each other. This makes it seem possible that multiple different fields working together can be simulated eg. both a electric field and gravitational field acting on objects. But there are still limitations to the Eulers method. \n",
    "\n",
    "#### Accuracy \n",
    "The accuracy of the Eulers Method ultimately comes down to the nature of the mathematics which the Euler Method uses. It is fundamentally a sum of linear tangential movements which make up the movement of a given object. Firstly, it is entirely dependent on $ dt $, the time step which is used. If the code smaller time steps, the motion then becomes more and more accurate. However, the magnitude of velocity also seems to affect the accuracy, with very high speeds and acceleration, the position vector changes much more as the tangent formed is then much longer which makes the motion more inaccurate. \n",
    "\n",
    "Another note is that the accuracy of this method also declines with the animation time and the number of updates. This is due to the fact that the method is ultimately simulating a force vector field which is dependent on position. This means the acceleration and velocity are then all affected by the position of the object. If the position of the object is slightly off, then the acceleration and velocity values then also become inaccurate. Over time, this compounds on itself leading to bigger and bigger errors.\n",
    "\n",
    "It is then possible to suggest that this program will be most suitable with stable, low velocity orbits. But it is possible to simulate more complex movements and at higher velocities by making the time step much smaller and the animation rate much higher. But this is a computational limit and the time step and animation rate can only be made so small and large.\n",
    "\n",
    "#### Orbit of Planets\n",
    "The use of Eulers method was able to investigate how the orbits of planets will be affected by parameters such as mass, velocity and position. Given a smaller animation time and low time step, the orbits of planets can be simulated accurately. \n",
    "\n",
    "#### Gravitational Interaction of 2 planets/objects\n",
    "It seems that the how 2 different planets gravity interacts with one another along with the sun can be simulated. However, different time steps give much different orbits especially when run for a long time. It can be concluded that the simulation is accurate but only for a short time otherwise any small errors compound very fast and chaotically lead to the wrong trajectories. \n"
   ]
  },
  {
   "cell_type": "markdown",
   "metadata": {},
   "source": [
    "## Bibliography \n",
    "\n",
    "Waugh, B., Chislett, R. and Dash, L., 2021. PHAS0007 Computing Final Assignment 2020-21: Simulating Planetary Orbits. [online] London: UCL Department of Physics and Astronomy, pp.1 - 4. Available at: <https://moodle.ucl.ac.uk/pluginfile.php/3716400/mod_resource/content/3/FinalAssignment.pdf> [Accessed 28 December 2021].\n",
    "\n",
    "Numpy.org. 2022. numpy.random.rand — NumPy v1.22 Manual. [online] Available at: <https://numpy.org/doc/stable/reference/random/generated/numpy.random.rand.html> [Accessed 28 December 2021].\n",
    "\n",
    "Vpython Help. 2022. Color. [online] Available at: <https://www.glowscript.org/docs/VPythonDocs/color.html> [Accessed 28 December 2021].\n",
    "\n",
    "Numpy.org. 2022. numpy.flip — NumPy v1.22 Manual. [online] Available at: <https://numpy.org/doc/stable/reference/generated/numpy.flip.html> [Accessed 6 January 2022]."
   ]
  },
  {
   "cell_type": "code",
   "execution_count": null,
   "metadata": {},
   "outputs": [],
   "source": []
  }
 ],
 "metadata": {
  "kernelspec": {
   "display_name": "Python 3",
   "language": "python",
   "name": "python3"
  },
  "language_info": {
   "codemirror_mode": {
    "name": "ipython",
    "version": 3
   },
   "file_extension": ".py",
   "mimetype": "text/x-python",
   "name": "python",
   "nbconvert_exporter": "python",
   "pygments_lexer": "ipython3",
   "version": "3.8.8"
  },
  "toc": {
   "base_numbering": 1,
   "nav_menu": {},
   "number_sections": false,
   "sideBar": true,
   "skip_h1_title": false,
   "title_cell": "Table of Contents",
   "title_sidebar": "Contents",
   "toc_cell": false,
   "toc_position": {},
   "toc_section_display": true,
   "toc_window_display": false
  }
 },
 "nbformat": 4,
 "nbformat_minor": 4
}
